{
 "cells": [
  {
   "cell_type": "code",
   "execution_count": 22,
   "metadata": {
    "collapsed": false
   },
   "outputs": [
    {
     "data": {
      "text/plain": [
       "==> Load pretrained model...\t\n"
      ]
     },
     "execution_count": 22,
     "metadata": {},
     "output_type": "execute_result"
    },
    {
     "data": {
      "text/plain": [
       "==> Load data...\t\n"
      ]
     },
     "execution_count": 22,
     "metadata": {},
     "output_type": "execute_result"
    },
    {
     "data": {
      "text/plain": [
       "==> preprocessing data: colorspace RGB -> YUV\t\n"
      ]
     },
     "execution_count": 22,
     "metadata": {},
     "output_type": "execute_result"
    },
    {
     "data": {
      "text/plain": [
       "==> preprocessing data: normalize each feature (channel) globally\t\n",
       "1\t\n"
      ]
     },
     "execution_count": 22,
     "metadata": {},
     "output_type": "execute_result"
    },
    {
     "data": {
      "text/plain": [
       "2\t\n"
      ]
     },
     "execution_count": 22,
     "metadata": {},
     "output_type": "execute_result"
    },
    {
     "data": {
      "text/plain": [
       "3\t\n"
      ]
     },
     "execution_count": 22,
     "metadata": {},
     "output_type": "execute_result"
    },
    {
     "data": {
      "text/plain": [
       "==> preprocessing data: normalize all three channels locally\t\n"
      ]
     },
     "execution_count": 22,
     "metadata": {},
     "output_type": "execute_result"
    },
    {
     "data": {
      "text/plain": [
       "==> target:\t\n",
       "2\t\n"
      ]
     },
     "execution_count": 22,
     "metadata": {},
     "output_type": "execute_result"
    },
    {
     "data": {
      "text/plain": [
       "==> prediction:\t\n",
       "2 - 96.200634953783%\t\n",
       "7 - 3.2933205198945%\t\n",
       "8 - 0.22320056510039%\t\n",
       "1 - 0.18136812230258%\t\n",
       "3 - 0.047649911536933%\t\n",
       "4 - 0.025340763976744%\t\n",
       "9 - 0.0076422435460202%\t\n",
       "6 - 0.0065928905305181%\t\n",
       "10 - 0.0046131396081926%\t\n",
       "5 - 0.00038118245220448%\t\n"
      ]
     },
     "execution_count": 22,
     "metadata": {},
     "output_type": "execute_result"
    },
    {
     "data": {
      "image/png": "[encoded data removed]",
      "text/plain": [
       "Console does not support images"
      ]
     },
     "metadata": {
      "image/png": {
       "height": 34,
       "width": 34
      }
     },
     "output_type": "display_data"
    }
   ],
   "source": [
    "require \"torch\"\n",
    "require \"cunn\"\n",
    "require \"nn\"\n",
    "require \"image\"\n",
    "\n",
    "----------------------------------------------------------------------\n",
    "\n",
    "cmd = torch.CmdLine()\n",
    "cmd:text('Options:')\n",
    "cmd:option('-type', 'double', 'type: double | float | cuda')\n",
    "cmd:text()\n",
    "opt = cmd:parse(arg or {})\n",
    "\n",
    "----------------------------------------------------------------------\n",
    "\n",
    "if opt.type == 'float' then\n",
    "   print('==> switching to floats')\n",
    "   torch.setdefaulttensortype('torch.FloatTensor')\n",
    "elseif opt.type == 'cuda' then\n",
    "   print('==> switching to CUDA')\n",
    "   require 'cunn'\n",
    "   torch.setdefaulttensortype('torch.FloatTensor')\n",
    "end\n",
    "\n",
    "print(\"==> Load pretrained model...\")\n",
    "model = torch.load(\"results/model.net\")\n",
    "\n",
    "-- print(\"==> Pretrained model loaded: \")\n",
    "-- print(model)\n",
    "\n",
    "print(\"==> Load data...\")\n",
    "test_file = 'test_32x32.t7'\n",
    "tesize = 2000 -- 26032\n",
    "loaded = torch.load(test_file,'ascii')\n",
    "testData = {\n",
    "   data = loaded.X:transpose(3,4),\n",
    "   labels = loaded.y[1],\n",
    "   size = function() return tesize end\n",
    "}\n",
    "testData.data = testData.data:double()\n",
    "\n",
    "-- Convert all images to YUV\n",
    "print '==> preprocessing data: colorspace RGB -> YUV'\n",
    "for i = 1,testData:size() do\n",
    "   testData.data[i] = image.rgb2yuv(testData.data[i])\n",
    "end\n",
    "\n",
    "-- Name channels for convenience\n",
    "channels = {'y','u','v'}\n",
    "\n",
    "-- Normalize each channel, and store mean/std\n",
    "-- per channel. These values are important, as they are part of\n",
    "-- the trainable parameters. At test time, test data will be normalized\n",
    "-- using these values.\n",
    "print '==> preprocessing data: normalize each feature (channel) globally'\n",
    "mean = {\n",
    "    -0.006313964130324,\n",
    "    0.21264134455774,\n",
    "    0.22919727583664\n",
    "}\n",
    "std = {\n",
    "    0.94085703702485,\n",
    "    0.78796429042957,\n",
    "    0.74868942342819\n",
    "}\n",
    "\n",
    "-- Normalize test data, using the training means/stds\n",
    "for i,channel in ipairs(channels) do\n",
    "    print(i)\n",
    "   -- normalize each channel globally:\n",
    "   testData.data[{ {},i,{},{} }]:add(-mean[i])\n",
    "   testData.data[{ {},i,{},{} }]:div(std[i])\n",
    "end\n",
    "\n",
    "-- Local normalization\n",
    "print '==> preprocessing data: normalize all three channels locally'\n",
    "\n",
    "-- Define the normalization neighborhood:\n",
    "neighborhood = image.gaussian1D(13)\n",
    "\n",
    "-- Define our local normalization operator (It is an actual nn module, \n",
    "-- which could be inserted into a trainable model):\n",
    "normalization = nn.SpatialContrastiveNormalization(1, neighborhood, 1):double()\n",
    "\n",
    "-- Normalize all channels locally:\n",
    "for c in ipairs(channels) do\n",
    "   for i = 1,testData:size() do\n",
    "      testData.data[{ i,{c},{},{} }] = normalization:forward(testData.data[{ i,{c},{},{} }])\n",
    "   end\n",
    "end\n",
    "\n",
    "\n",
    "model:evaluate()\n",
    "\n",
    "-- get new sample\n",
    "local t = 888\n",
    "local input = testData.data[t]\n",
    "local target = testData.labels[t]\n",
    "print(\"==> target:\")\n",
    "print(target)\n",
    "\n",
    "-- test sample\n",
    "local prediction = model:forward(input):exp()\n",
    "local confidences, indices = torch.sort(prediction, true)\n",
    "print(\"==> prediction:\")\n",
    "for i=1,confidences:size(1) do\n",
    "    print(indices[i] .. \" - \" .. confidences[i] * 100 .. \"%\")\n",
    "end\n",
    "\n",
    "if itorch then\n",
    "    itorch.image(loaded.X[{ {t,t} }])\n",
    "else\n",
    "    print('skipping visualization because the script is not run from itorch')\n",
    "end\n"
   ]
  }
 ],
 "metadata": {
  "kernelspec": {
   "display_name": "iTorch",
   "language": "lua",
   "name": "itorch"
  },
  "language_info": {
   "name": "lua",
   "version": "5.1"
  }
 },
 "nbformat": 4,
 "nbformat_minor": 0
}
