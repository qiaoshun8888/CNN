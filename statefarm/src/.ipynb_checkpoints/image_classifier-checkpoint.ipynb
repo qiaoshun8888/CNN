{
 "cells": [
  {
   "cell_type": "code",
   "execution_count": null,
   "metadata": {
    "collapsed": true
   },
   "outputs": [],
   "source": [
    "require 'torch'\n",
    "require 'image'\n",
    "require 'qt'\n",
    "\n",
    "local answer\n",
    "for i,file in ipairs(pl.dir.getallfiles('imgs/small tests', '*.jpg')) do\n",
    "    image.display(image.load(file))\n",
    "    io.write(\"continue with this operation (y/n)? \")\n",
    "    io.flush()\n",
    "    answer=io.read()\n",
    "    print(answer)\n",
    "then\n"
   ]
  }
 ],
 "metadata": {
  "kernelspec": {
   "display_name": "iTorch",
   "language": "lua",
   "name": "itorch"
  },
  "language_info": {
   "name": "lua",
   "version": "5.1"
  }
 },
 "nbformat": 4,
 "nbformat_minor": 0
}
