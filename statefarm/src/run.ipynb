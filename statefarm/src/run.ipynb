{
 "cells": [
  {
   "cell_type": "code",
   "execution_count": null,
   "metadata": {
    "collapsed": true
   },
   "outputs": [],
   "source": [
    "require 'pl'\n",
    "require 'trepl'\n",
    "require 'torch'\n",
    "require 'image'\n",
    "require 'nn'\n",
    "\n",
    "----------------------------------------------------------------------\n",
    "print(sys.COLORS.red .. '==> Processing options')\n",
    "\n",
    "opt = lapp[[\n",
    "   -r,--learningRate       (default 1e-3)        learning rate\n",
    "   -d,--learningRateDecay  (default 1e-7)        learning rate decay (in # samples)\n",
    "   -w,--weightDecay        (default 1e-5)        L2 penalty on the weights\n",
    "   -m,--momentum           (default 0.1)         momentum\n",
    "   -d,--dropout            (default 0.5)         dropout amount\n",
    "   -b,--batchSize          (default 128)         batch size\n",
    "   -t,--threads            (default 8)           number of threads\n",
    "   -p,--type               (default float)       float or cuda\n",
    "   -i,--devid              (default 1)           device ID (if using CUDA)\n",
    "   -s,--size               (default small)       dataset: small or full or extra\n",
    "   -o,--save               (default results)     save directory\n",
    "   -mi,--maxIters          (default 5)           maximum number of iterations\n",
    "      --patches            (default all)         percentage of samples to use for testing'\n",
    "      --visualize          (default true)        visualize dataset\n",
    "]]\n",
    "\n",
    "-- nb of threads and fixed seed (for repeatable experiments)\n",
    "torch.setnumthreads(opt.threads)\n",
    "torch.manualSeed(1)\n",
    "torch.setdefaulttensortype('torch.FloatTensor')\n",
    "\n",
    "-- type:\n",
    "if opt.type == 'cuda' then\n",
    "   print(sys.COLORS.red ..  '==> Switching to CUDA')\n",
    "   require 'cunn'\n",
    "   cutorch.setDevice(opt.devid)\n",
    "   print(sys.COLORS.red .. '==> Using GPU #' .. cutorch.getDevice())\n",
    "end\n",
    "\n",
    "----------------------------------------------------------------------\n",
    "print(sys.COLORS.red .. '==> Load modules')\n",
    "\n",
    "local data  = require 'data'\n",
    "local train = require 'train'\n",
    "local test  = require 'test'\n",
    "\n",
    "----------------------------------------------------------------------\n",
    "print(sys.COLORS.red .. '==> Training!')\n",
    "\n",
    "for i=1,opt.maxIters do\n",
    "   train(data.trainData)\n",
    "   test(data.testData)\n",
    "end\n"
   ]
  }
 ],
 "metadata": {
  "kernelspec": {
   "display_name": "iTorch",
   "language": "lua",
   "name": "itorch"
  },
  "language_info": {
   "name": "lua",
   "version": "5.1"
  }
 },
 "nbformat": 4,
 "nbformat_minor": 0
}
